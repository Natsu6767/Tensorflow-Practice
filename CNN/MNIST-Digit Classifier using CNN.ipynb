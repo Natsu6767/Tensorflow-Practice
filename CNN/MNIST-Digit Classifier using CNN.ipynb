{
 "cells": [
  {
   "cell_type": "markdown",
   "metadata": {},
   "source": [
    "# MNIST CNN"
   ]
  },
  {
   "cell_type": "code",
   "execution_count": 1,
   "metadata": {},
   "outputs": [
    {
     "name": "stderr",
     "output_type": "stream",
     "text": [
      "/home/mohit/virtualenvs/tensorflow/lib/python3.5/site-packages/h5py/__init__.py:36: FutureWarning: Conversion of the second argument of issubdtype from `float` to `np.floating` is deprecated. In future, it will be treated as `np.float64 == np.dtype(float).type`.\n",
      "  from ._conv import register_converters as _register_converters\n"
     ]
    }
   ],
   "source": [
    "import tensorflow as tf"
   ]
  },
  {
   "cell_type": "code",
   "execution_count": 2,
   "metadata": {},
   "outputs": [],
   "source": [
    "from tensorflow.examples.tutorials.mnist import input_data"
   ]
  },
  {
   "cell_type": "code",
   "execution_count": 3,
   "metadata": {},
   "outputs": [
    {
     "name": "stdout",
     "output_type": "stream",
     "text": [
      "Extracting MNIST_data/train-images-idx3-ubyte.gz\n",
      "Extracting MNIST_data/train-labels-idx1-ubyte.gz\n",
      "Extracting MNIST_data/t10k-images-idx3-ubyte.gz\n",
      "Extracting MNIST_data/t10k-labels-idx1-ubyte.gz\n"
     ]
    }
   ],
   "source": [
    "mnist = input_data.read_data_sets(\"MNIST_data/\", one_hot=True)"
   ]
  },
  {
   "cell_type": "code",
   "execution_count": 4,
   "metadata": {},
   "outputs": [],
   "source": [
    "# INIT WEIGHTS\n",
    "def init_weights(shape):\n",
    "    \n",
    "    init_random_dist = tf.truncated_normal(shape, stddev = 0.1)\n",
    "    \n",
    "    return tf.Variable(init_random_dist)"
   ]
  },
  {
   "cell_type": "code",
   "execution_count": 5,
   "metadata": {},
   "outputs": [],
   "source": [
    "# INIT BIAS\n",
    "def init_bias(shape):\n",
    "    \n",
    "    init_bias_vals = tf.constant(0.1, shape = shape)\n",
    "    \n",
    "    return tf.Variable(init_bias_vals)"
   ]
  },
  {
   "cell_type": "code",
   "execution_count": 6,
   "metadata": {},
   "outputs": [],
   "source": [
    "# CONV2D\n",
    "def conv2d(x, W):\n",
    "    \n",
    "    # x --> [batch, H, W, Channels]\n",
    "    # W --> [filters H, filters W, Channels IN, Channels OUT]\n",
    "    \n",
    "    return tf.nn.conv2d(x, W, strides = [1, 1, 1, 1], padding = 'SAME')"
   ]
  },
  {
   "cell_type": "code",
   "execution_count": 7,
   "metadata": {},
   "outputs": [],
   "source": [
    "# POOLING\n",
    "def max_pool_2by2(x):\n",
    "    \n",
    "    # x --> [batch, h, w, C]\n",
    "    \n",
    "    return tf.nn.max_pool(x, ksize = [1, 2, 2, 1], strides = [1, 2, 2, 1], padding = 'SAME')"
   ]
  },
  {
   "cell_type": "code",
   "execution_count": 8,
   "metadata": {},
   "outputs": [],
   "source": [
    "# CONVOLUTIONAL LAYER\n",
    "def convolutional_layer(input_x, shape):\n",
    "    \n",
    "    W = init_weights(shape)\n",
    "    b = init_bias([shape[3]])\n",
    "    \n",
    "    return tf.nn.relu(conv2d(input_x, W) + b)"
   ]
  },
  {
   "cell_type": "code",
   "execution_count": 9,
   "metadata": {},
   "outputs": [],
   "source": [
    "# FULLY CONNECTED\n",
    "def normal_full_layer(input_layer, size):\n",
    "    \n",
    "    input_size = int(input_layer.get_shape()[1])\n",
    "    W = init_weights([input_size, size])\n",
    "    b = init_bias([size])\n",
    "    \n",
    "    return tf.matmul(input_layer,W) + b"
   ]
  },
  {
   "cell_type": "code",
   "execution_count": 10,
   "metadata": {},
   "outputs": [],
   "source": [
    "# Placeholders\n",
    "x = tf.placeholder(tf.float32, shape = [None, 784])\n",
    "y_true = tf.placeholder(tf.float32, shape = [None, 10])"
   ]
  },
  {
   "cell_type": "code",
   "execution_count": 11,
   "metadata": {},
   "outputs": [],
   "source": [
    "# Layers\n",
    "x_image = tf.reshape(x, [-1, 28, 28, 1])\n",
    "\n",
    "convo_1 = convolutional_layer(x_image, shape = [5, 5, 1, 32])\n",
    "convo_1_pooling = max_pool_2by2(convo_1)\n",
    "\n",
    "convo_2 = convolutional_layer(convo_1_pooling, shape = [5, 5, 32, 64])\n",
    "convo_2_pooling = max_pool_2by2(convo_2)\n",
    "\n",
    "convo_2_flat = tf.reshape(convo_2_pooling, [-1, 7 * 7 * 64])\n",
    "full_layer_one = tf.nn.relu(normal_full_layer(convo_2_flat, 1024))"
   ]
  },
  {
   "cell_type": "code",
   "execution_count": 12,
   "metadata": {},
   "outputs": [],
   "source": [
    "# Dropout\n",
    "hold_prob = tf.placeholder(tf.float32)\n",
    "full_one_dropout = tf.nn.dropout(full_layer_one, keep_prob = hold_prob)"
   ]
  },
  {
   "cell_type": "code",
   "execution_count": 13,
   "metadata": {},
   "outputs": [],
   "source": [
    "y_pred = normal_full_layer(full_one_dropout, 10)"
   ]
  },
  {
   "cell_type": "code",
   "execution_count": 14,
   "metadata": {},
   "outputs": [
    {
     "name": "stdout",
     "output_type": "stream",
     "text": [
      "WARNING:tensorflow:From <ipython-input-14-b5f5ab1740d5>:2: softmax_cross_entropy_with_logits (from tensorflow.python.ops.nn_ops) is deprecated and will be removed in a future version.\n",
      "Instructions for updating:\n",
      "\n",
      "Future major versions of TensorFlow will allow gradients to flow\n",
      "into the labels input on backprop by default.\n",
      "\n",
      "See tf.nn.softmax_cross_entropy_with_logits_v2.\n",
      "\n"
     ]
    }
   ],
   "source": [
    "# Loss Function\n",
    "cross_entropy = tf.reduce_mean(tf.nn.softmax_cross_entropy_with_logits(labels = y_true, logits = y_pred))"
   ]
  },
  {
   "cell_type": "code",
   "execution_count": 15,
   "metadata": {},
   "outputs": [],
   "source": [
    "# Optimizer\n",
    "optimizer = tf.train.AdamOptimizer(learning_rate = 0.001)\n",
    "train = optimizer.minimize(cross_entropy)"
   ]
  },
  {
   "cell_type": "code",
   "execution_count": 16,
   "metadata": {},
   "outputs": [],
   "source": [
    "init = tf.global_variables_initializer()"
   ]
  },
  {
   "cell_type": "code",
   "execution_count": 17,
   "metadata": {},
   "outputs": [
    {
     "name": "stdout",
     "output_type": "stream",
     "text": [
      "ON STEP: 0\n",
      "ACCURACY \n",
      "0.1009\n",
      "\n",
      "\n",
      "ON STEP: 100\n",
      "ACCURACY \n",
      "0.9463\n",
      "\n",
      "\n",
      "ON STEP: 200\n",
      "ACCURACY \n",
      "0.9639\n",
      "\n",
      "\n",
      "ON STEP: 300\n",
      "ACCURACY \n",
      "0.9637\n",
      "\n",
      "\n",
      "ON STEP: 400\n",
      "ACCURACY \n",
      "0.9723\n",
      "\n",
      "\n",
      "ON STEP: 500\n",
      "ACCURACY \n",
      "0.9755\n",
      "\n",
      "\n",
      "ON STEP: 600\n",
      "ACCURACY \n",
      "0.9788\n",
      "\n",
      "\n",
      "ON STEP: 700\n",
      "ACCURACY \n",
      "0.9812\n",
      "\n",
      "\n",
      "ON STEP: 800\n",
      "ACCURACY \n",
      "0.9802\n",
      "\n",
      "\n",
      "ON STEP: 900\n",
      "ACCURACY \n",
      "0.9814\n",
      "\n",
      "\n",
      "ON STEP: 1000\n",
      "ACCURACY \n",
      "0.9869\n",
      "\n",
      "\n",
      "ON STEP: 1100\n",
      "ACCURACY \n",
      "0.9846\n",
      "\n",
      "\n",
      "ON STEP: 1200\n",
      "ACCURACY \n",
      "0.9852\n",
      "\n",
      "\n",
      "ON STEP: 1300\n",
      "ACCURACY \n",
      "0.9844\n",
      "\n",
      "\n",
      "ON STEP: 1400\n",
      "ACCURACY \n",
      "0.9881\n",
      "\n",
      "\n",
      "ON STEP: 1500\n",
      "ACCURACY \n",
      "0.9868\n",
      "\n",
      "\n",
      "ON STEP: 1600\n",
      "ACCURACY \n",
      "0.9877\n",
      "\n",
      "\n",
      "ON STEP: 1700\n",
      "ACCURACY \n",
      "0.9854\n",
      "\n",
      "\n",
      "ON STEP: 1800\n",
      "ACCURACY \n",
      "0.9848\n",
      "\n",
      "\n",
      "ON STEP: 1900\n",
      "ACCURACY \n",
      "0.9889\n",
      "\n",
      "\n",
      "ON STEP: 2000\n",
      "ACCURACY \n",
      "0.9874\n",
      "\n",
      "\n",
      "ON STEP: 2100\n",
      "ACCURACY \n",
      "0.9883\n",
      "\n",
      "\n",
      "ON STEP: 2200\n",
      "ACCURACY \n",
      "0.988\n",
      "\n",
      "\n",
      "ON STEP: 2300\n",
      "ACCURACY \n",
      "0.986\n",
      "\n",
      "\n",
      "ON STEP: 2400\n",
      "ACCURACY \n",
      "0.9878\n",
      "\n",
      "\n",
      "ON STEP: 2500\n",
      "ACCURACY \n",
      "0.988\n",
      "\n",
      "\n",
      "ON STEP: 2600\n",
      "ACCURACY \n",
      "0.9896\n",
      "\n",
      "\n",
      "ON STEP: 2700\n",
      "ACCURACY \n",
      "0.9894\n",
      "\n",
      "\n",
      "ON STEP: 2800\n",
      "ACCURACY \n",
      "0.9889\n",
      "\n",
      "\n",
      "ON STEP: 2900\n",
      "ACCURACY \n",
      "0.9884\n",
      "\n",
      "\n",
      "ON STEP: 3000\n",
      "ACCURACY \n",
      "0.9862\n",
      "\n",
      "\n",
      "ON STEP: 3100\n",
      "ACCURACY \n",
      "0.9896\n",
      "\n",
      "\n",
      "ON STEP: 3200\n",
      "ACCURACY \n",
      "0.9904\n",
      "\n",
      "\n",
      "ON STEP: 3300\n",
      "ACCURACY \n",
      "0.9902\n",
      "\n",
      "\n",
      "ON STEP: 3400\n",
      "ACCURACY \n",
      "0.9903\n",
      "\n",
      "\n",
      "ON STEP: 3500\n",
      "ACCURACY \n",
      "0.9915\n",
      "\n",
      "\n",
      "ON STEP: 3600\n",
      "ACCURACY \n",
      "0.9891\n",
      "\n",
      "\n",
      "ON STEP: 3700\n",
      "ACCURACY \n",
      "0.9899\n",
      "\n",
      "\n",
      "ON STEP: 3800\n",
      "ACCURACY \n",
      "0.9889\n",
      "\n",
      "\n",
      "ON STEP: 3900\n",
      "ACCURACY \n",
      "0.9915\n",
      "\n",
      "\n",
      "ON STEP: 4000\n",
      "ACCURACY \n",
      "0.9901\n",
      "\n",
      "\n",
      "ON STEP: 4100\n",
      "ACCURACY \n",
      "0.9887\n",
      "\n",
      "\n",
      "ON STEP: 4200\n",
      "ACCURACY \n",
      "0.9848\n",
      "\n",
      "\n",
      "ON STEP: 4300\n",
      "ACCURACY \n",
      "0.9917\n",
      "\n",
      "\n",
      "ON STEP: 4400\n",
      "ACCURACY \n",
      "0.9912\n",
      "\n",
      "\n",
      "ON STEP: 4500\n",
      "ACCURACY \n",
      "0.9894\n",
      "\n",
      "\n",
      "ON STEP: 4600\n",
      "ACCURACY \n",
      "0.9905\n",
      "\n",
      "\n",
      "ON STEP: 4700\n",
      "ACCURACY \n",
      "0.992\n",
      "\n",
      "\n",
      "ON STEP: 4800\n",
      "ACCURACY \n",
      "0.9918\n",
      "\n",
      "\n",
      "ON STEP: 4900\n",
      "ACCURACY \n",
      "0.9894\n",
      "\n",
      "\n"
     ]
    }
   ],
   "source": [
    "steps = 5000\n",
    "\n",
    "with tf.Session() as sess:\n",
    "    \n",
    "    sess.run(init)\n",
    "    \n",
    "    for i in range(steps):\n",
    "        \n",
    "        batch_x, batch_y = mnist.train.next_batch(50)\n",
    "        \n",
    "        sess.run(train, feed_dict = {x : batch_x, y_true : batch_y, hold_prob : 0.5})\n",
    "        \n",
    "        if i%100 == 0:\n",
    "            \n",
    "            print(\"ON STEP: {}\".format(i))\n",
    "            print(\"ACCURACY \")\n",
    "            \n",
    "            matches = tf.equal(tf.argmax(y_pred, 1), tf.argmax(y_true, 1))\n",
    "            acc = tf.reduce_mean(tf.cast(matches, tf.float32))\n",
    "            \n",
    "            print(sess.run(acc, feed_dict = {x : mnist.test.images, y_true : mnist.test.labels, hold_prob:1.0}))\n",
    "            print('\\n')"
   ]
  },
  {
   "cell_type": "code",
   "execution_count": null,
   "metadata": {},
   "outputs": [],
   "source": []
  }
 ],
 "metadata": {
  "kernelspec": {
   "display_name": "Python 3",
   "language": "python",
   "name": "python3"
  },
  "language_info": {
   "codemirror_mode": {
    "name": "ipython",
    "version": 3
   },
   "file_extension": ".py",
   "mimetype": "text/x-python",
   "name": "python",
   "nbconvert_exporter": "python",
   "pygments_lexer": "ipython3",
   "version": "3.5.2"
  }
 },
 "nbformat": 4,
 "nbformat_minor": 2
}
